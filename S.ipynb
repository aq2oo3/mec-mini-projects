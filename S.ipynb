{
 "cells": [
  {
   "cell_type": "code",
   "execution_count": 1,
   "id": "676dbfce",
   "metadata": {},
   "outputs": [],
   "source": [
    "import pandas as pd\n",
    "import numpy as np\n",
    "import warnings\n",
    "warnings.filterwarnings('ignore')"
   ]
  },
  {
   "cell_type": "code",
   "execution_count": 2,
   "id": "1992a354",
   "metadata": {
    "scrolled": true
   },
   "outputs": [
    {
     "name": "stdout",
     "output_type": "stream",
     "text": [
      "<class 'pandas.core.frame.DataFrame'>\n",
      "RangeIndex: 4888 entries, 0 to 4887\n",
      "Data columns (total 9 columns):\n",
      " #   Column         Non-Null Count  Dtype \n",
      "---  ------         --------------  ----- \n",
      " 0   Unnamed: 0     4888 non-null   int64 \n",
      " 1   app_name       4888 non-null   object\n",
      " 2   app_genre      3018 non-null   object\n",
      " 3   avg_rating     4888 non-null   object\n",
      " 4   num_downloads  4888 non-null   object\n",
      " 5   num_reviews    4888 non-null   object\n",
      " 6   user           4888 non-null   object\n",
      " 7   review_text    4888 non-null   object\n",
      " 8   rating         4888 non-null   int64 \n",
      "dtypes: int64(2), object(7)\n",
      "memory usage: 343.8+ KB\n"
     ]
    }
   ],
   "source": [
    "d3 = pd.read_csv('/Users/aq2003/Capstone/data/google_play_reviews.csv')\n",
    "d3.info()"
   ]
  },
  {
   "cell_type": "code",
   "execution_count": 3,
   "id": "f63e9029",
   "metadata": {},
   "outputs": [
    {
     "data": {
      "text/html": [
       "<div>\n",
       "<style scoped>\n",
       "    .dataframe tbody tr th:only-of-type {\n",
       "        vertical-align: middle;\n",
       "    }\n",
       "\n",
       "    .dataframe tbody tr th {\n",
       "        vertical-align: top;\n",
       "    }\n",
       "\n",
       "    .dataframe thead th {\n",
       "        text-align: right;\n",
       "    }\n",
       "</style>\n",
       "<table border=\"1\" class=\"dataframe\">\n",
       "  <thead>\n",
       "    <tr style=\"text-align: right;\">\n",
       "      <th></th>\n",
       "      <th>app_name</th>\n",
       "      <th>review_text</th>\n",
       "      <th>rating</th>\n",
       "    </tr>\n",
       "  </thead>\n",
       "  <tbody>\n",
       "    <tr>\n",
       "      <th>0</th>\n",
       "      <td>VPN Proxy Master - Safer Vpn</td>\n",
       "      <td>Annoying, automatic server selection not worki...</td>\n",
       "      <td>1</td>\n",
       "    </tr>\n",
       "    <tr>\n",
       "      <th>1</th>\n",
       "      <td>VPN Proxy Master - Safer Vpn</td>\n",
       "      <td>The app works. Barely. It does have a vpn, and...</td>\n",
       "      <td>2</td>\n",
       "    </tr>\n",
       "    <tr>\n",
       "      <th>2</th>\n",
       "      <td>VPN Proxy Master - Safer Vpn</td>\n",
       "      <td>Very good quality. I really liked it i hope it...</td>\n",
       "      <td>5</td>\n",
       "    </tr>\n",
       "    <tr>\n",
       "      <th>3</th>\n",
       "      <td>Busuu: Learn Languages</td>\n",
       "      <td>It's awesome. It's not just an app for learnin...</td>\n",
       "      <td>5</td>\n",
       "    </tr>\n",
       "    <tr>\n",
       "      <th>4</th>\n",
       "      <td>Busuu: Learn Languages</td>\n",
       "      <td>I used a free trial version for a couple of da...</td>\n",
       "      <td>3</td>\n",
       "    </tr>\n",
       "    <tr>\n",
       "      <th>...</th>\n",
       "      <td>...</td>\n",
       "      <td>...</td>\n",
       "      <td>...</td>\n",
       "    </tr>\n",
       "    <tr>\n",
       "      <th>4883</th>\n",
       "      <td>Geometry Dash Lite</td>\n",
       "      <td>I got high hopes for this update and I actuall...</td>\n",
       "      <td>3</td>\n",
       "    </tr>\n",
       "    <tr>\n",
       "      <th>4884</th>\n",
       "      <td>Geometry Dash Lite</td>\n",
       "      <td>This is Epic I kinda wish the full version wer...</td>\n",
       "      <td>5</td>\n",
       "    </tr>\n",
       "    <tr>\n",
       "      <th>4885</th>\n",
       "      <td>Earn to Die 2</td>\n",
       "      <td>This game is awesome. I just beat it at just u...</td>\n",
       "      <td>5</td>\n",
       "    </tr>\n",
       "    <tr>\n",
       "      <th>4886</th>\n",
       "      <td>Earn to Die 2</td>\n",
       "      <td>This is really a good game with great graphics...</td>\n",
       "      <td>4</td>\n",
       "    </tr>\n",
       "    <tr>\n",
       "      <th>4887</th>\n",
       "      <td>Earn to Die 2</td>\n",
       "      <td>I can accept the fact that you put ads. But th...</td>\n",
       "      <td>2</td>\n",
       "    </tr>\n",
       "  </tbody>\n",
       "</table>\n",
       "<p>4888 rows × 3 columns</p>\n",
       "</div>"
      ],
      "text/plain": [
       "                          app_name  \\\n",
       "0     VPN Proxy Master - Safer Vpn   \n",
       "1     VPN Proxy Master - Safer Vpn   \n",
       "2     VPN Proxy Master - Safer Vpn   \n",
       "3           Busuu: Learn Languages   \n",
       "4           Busuu: Learn Languages   \n",
       "...                            ...   \n",
       "4883            Geometry Dash Lite   \n",
       "4884            Geometry Dash Lite   \n",
       "4885                 Earn to Die 2   \n",
       "4886                 Earn to Die 2   \n",
       "4887                 Earn to Die 2   \n",
       "\n",
       "                                            review_text  rating  \n",
       "0     Annoying, automatic server selection not worki...       1  \n",
       "1     The app works. Barely. It does have a vpn, and...       2  \n",
       "2     Very good quality. I really liked it i hope it...       5  \n",
       "3     It's awesome. It's not just an app for learnin...       5  \n",
       "4     I used a free trial version for a couple of da...       3  \n",
       "...                                                 ...     ...  \n",
       "4883  I got high hopes for this update and I actuall...       3  \n",
       "4884  This is Epic I kinda wish the full version wer...       5  \n",
       "4885  This game is awesome. I just beat it at just u...       5  \n",
       "4886  This is really a good game with great graphics...       4  \n",
       "4887  I can accept the fact that you put ads. But th...       2  \n",
       "\n",
       "[4888 rows x 3 columns]"
      ]
     },
     "execution_count": 3,
     "metadata": {},
     "output_type": "execute_result"
    }
   ],
   "source": [
    "review_df = d3[['app_name','review_text','rating']]\n",
    "review_df"
   ]
  },
  {
   "cell_type": "code",
   "execution_count": 4,
   "id": "f707c93c",
   "metadata": {},
   "outputs": [],
   "source": [
    "review_df[\"sentiment\"] = 0\n",
    "for i in range(0, 4887):\n",
    "    if (review_df.at[i,'rating'] > 2):\n",
    "        review_df.at[i,'sentiment'] = 1"
   ]
  },
  {
   "cell_type": "code",
   "execution_count": 5,
   "id": "c754de03",
   "metadata": {},
   "outputs": [
    {
     "data": {
      "text/html": [
       "<div>\n",
       "<style scoped>\n",
       "    .dataframe tbody tr th:only-of-type {\n",
       "        vertical-align: middle;\n",
       "    }\n",
       "\n",
       "    .dataframe tbody tr th {\n",
       "        vertical-align: top;\n",
       "    }\n",
       "\n",
       "    .dataframe thead th {\n",
       "        text-align: right;\n",
       "    }\n",
       "</style>\n",
       "<table border=\"1\" class=\"dataframe\">\n",
       "  <thead>\n",
       "    <tr style=\"text-align: right;\">\n",
       "      <th></th>\n",
       "      <th>app_name</th>\n",
       "      <th>review_text</th>\n",
       "      <th>rating</th>\n",
       "      <th>sentiment</th>\n",
       "    </tr>\n",
       "  </thead>\n",
       "  <tbody>\n",
       "    <tr>\n",
       "      <th>0</th>\n",
       "      <td>VPN Proxy Master - Safer Vpn</td>\n",
       "      <td>Annoying, automatic server selection not worki...</td>\n",
       "      <td>1</td>\n",
       "      <td>0</td>\n",
       "    </tr>\n",
       "    <tr>\n",
       "      <th>1</th>\n",
       "      <td>VPN Proxy Master - Safer Vpn</td>\n",
       "      <td>The app works. Barely. It does have a vpn, and...</td>\n",
       "      <td>2</td>\n",
       "      <td>0</td>\n",
       "    </tr>\n",
       "    <tr>\n",
       "      <th>2</th>\n",
       "      <td>VPN Proxy Master - Safer Vpn</td>\n",
       "      <td>Very good quality. I really liked it i hope it...</td>\n",
       "      <td>5</td>\n",
       "      <td>1</td>\n",
       "    </tr>\n",
       "    <tr>\n",
       "      <th>3</th>\n",
       "      <td>Busuu: Learn Languages</td>\n",
       "      <td>It's awesome. It's not just an app for learnin...</td>\n",
       "      <td>5</td>\n",
       "      <td>1</td>\n",
       "    </tr>\n",
       "    <tr>\n",
       "      <th>4</th>\n",
       "      <td>Busuu: Learn Languages</td>\n",
       "      <td>I used a free trial version for a couple of da...</td>\n",
       "      <td>3</td>\n",
       "      <td>1</td>\n",
       "    </tr>\n",
       "    <tr>\n",
       "      <th>...</th>\n",
       "      <td>...</td>\n",
       "      <td>...</td>\n",
       "      <td>...</td>\n",
       "      <td>...</td>\n",
       "    </tr>\n",
       "    <tr>\n",
       "      <th>4883</th>\n",
       "      <td>Geometry Dash Lite</td>\n",
       "      <td>I got high hopes for this update and I actuall...</td>\n",
       "      <td>3</td>\n",
       "      <td>1</td>\n",
       "    </tr>\n",
       "    <tr>\n",
       "      <th>4884</th>\n",
       "      <td>Geometry Dash Lite</td>\n",
       "      <td>This is Epic I kinda wish the full version wer...</td>\n",
       "      <td>5</td>\n",
       "      <td>1</td>\n",
       "    </tr>\n",
       "    <tr>\n",
       "      <th>4885</th>\n",
       "      <td>Earn to Die 2</td>\n",
       "      <td>This game is awesome. I just beat it at just u...</td>\n",
       "      <td>5</td>\n",
       "      <td>1</td>\n",
       "    </tr>\n",
       "    <tr>\n",
       "      <th>4886</th>\n",
       "      <td>Earn to Die 2</td>\n",
       "      <td>This is really a good game with great graphics...</td>\n",
       "      <td>4</td>\n",
       "      <td>1</td>\n",
       "    </tr>\n",
       "    <tr>\n",
       "      <th>4887</th>\n",
       "      <td>Earn to Die 2</td>\n",
       "      <td>I can accept the fact that you put ads. But th...</td>\n",
       "      <td>2</td>\n",
       "      <td>0</td>\n",
       "    </tr>\n",
       "  </tbody>\n",
       "</table>\n",
       "<p>4888 rows × 4 columns</p>\n",
       "</div>"
      ],
      "text/plain": [
       "                          app_name  \\\n",
       "0     VPN Proxy Master - Safer Vpn   \n",
       "1     VPN Proxy Master - Safer Vpn   \n",
       "2     VPN Proxy Master - Safer Vpn   \n",
       "3           Busuu: Learn Languages   \n",
       "4           Busuu: Learn Languages   \n",
       "...                            ...   \n",
       "4883            Geometry Dash Lite   \n",
       "4884            Geometry Dash Lite   \n",
       "4885                 Earn to Die 2   \n",
       "4886                 Earn to Die 2   \n",
       "4887                 Earn to Die 2   \n",
       "\n",
       "                                            review_text  rating  sentiment  \n",
       "0     Annoying, automatic server selection not worki...       1          0  \n",
       "1     The app works. Barely. It does have a vpn, and...       2          0  \n",
       "2     Very good quality. I really liked it i hope it...       5          1  \n",
       "3     It's awesome. It's not just an app for learnin...       5          1  \n",
       "4     I used a free trial version for a couple of da...       3          1  \n",
       "...                                                 ...     ...        ...  \n",
       "4883  I got high hopes for this update and I actuall...       3          1  \n",
       "4884  This is Epic I kinda wish the full version wer...       5          1  \n",
       "4885  This game is awesome. I just beat it at just u...       5          1  \n",
       "4886  This is really a good game with great graphics...       4          1  \n",
       "4887  I can accept the fact that you put ads. But th...       2          0  \n",
       "\n",
       "[4888 rows x 4 columns]"
      ]
     },
     "execution_count": 5,
     "metadata": {},
     "output_type": "execute_result"
    }
   ],
   "source": [
    "review_df"
   ]
  },
  {
   "cell_type": "code",
   "execution_count": 10,
   "id": "2e7da8cd",
   "metadata": {},
   "outputs": [
    {
     "data": {
      "text/html": [
       "<div>\n",
       "<style scoped>\n",
       "    .dataframe tbody tr th:only-of-type {\n",
       "        vertical-align: middle;\n",
       "    }\n",
       "\n",
       "    .dataframe tbody tr th {\n",
       "        vertical-align: top;\n",
       "    }\n",
       "\n",
       "    .dataframe thead th {\n",
       "        text-align: right;\n",
       "    }\n",
       "</style>\n",
       "<table border=\"1\" class=\"dataframe\">\n",
       "  <thead>\n",
       "    <tr style=\"text-align: right;\">\n",
       "      <th></th>\n",
       "      <th>review_text</th>\n",
       "      <th>sentiment</th>\n",
       "    </tr>\n",
       "  </thead>\n",
       "  <tbody>\n",
       "    <tr>\n",
       "      <th>0</th>\n",
       "      <td>Annoying, automatic server selection not worki...</td>\n",
       "      <td>0</td>\n",
       "    </tr>\n",
       "    <tr>\n",
       "      <th>1</th>\n",
       "      <td>The app works. Barely. It does have a vpn, and...</td>\n",
       "      <td>0</td>\n",
       "    </tr>\n",
       "    <tr>\n",
       "      <th>2</th>\n",
       "      <td>Very good quality. I really liked it i hope it...</td>\n",
       "      <td>1</td>\n",
       "    </tr>\n",
       "    <tr>\n",
       "      <th>3</th>\n",
       "      <td>It's awesome. It's not just an app for learnin...</td>\n",
       "      <td>1</td>\n",
       "    </tr>\n",
       "    <tr>\n",
       "      <th>4</th>\n",
       "      <td>I used a free trial version for a couple of da...</td>\n",
       "      <td>1</td>\n",
       "    </tr>\n",
       "    <tr>\n",
       "      <th>...</th>\n",
       "      <td>...</td>\n",
       "      <td>...</td>\n",
       "    </tr>\n",
       "    <tr>\n",
       "      <th>4883</th>\n",
       "      <td>I got high hopes for this update and I actuall...</td>\n",
       "      <td>1</td>\n",
       "    </tr>\n",
       "    <tr>\n",
       "      <th>4884</th>\n",
       "      <td>This is Epic I kinda wish the full version wer...</td>\n",
       "      <td>1</td>\n",
       "    </tr>\n",
       "    <tr>\n",
       "      <th>4885</th>\n",
       "      <td>This game is awesome. I just beat it at just u...</td>\n",
       "      <td>1</td>\n",
       "    </tr>\n",
       "    <tr>\n",
       "      <th>4886</th>\n",
       "      <td>This is really a good game with great graphics...</td>\n",
       "      <td>1</td>\n",
       "    </tr>\n",
       "    <tr>\n",
       "      <th>4887</th>\n",
       "      <td>I can accept the fact that you put ads. But th...</td>\n",
       "      <td>0</td>\n",
       "    </tr>\n",
       "  </tbody>\n",
       "</table>\n",
       "<p>4888 rows × 2 columns</p>\n",
       "</div>"
      ],
      "text/plain": [
       "                                            review_text  sentiment\n",
       "0     Annoying, automatic server selection not worki...          0\n",
       "1     The app works. Barely. It does have a vpn, and...          0\n",
       "2     Very good quality. I really liked it i hope it...          1\n",
       "3     It's awesome. It's not just an app for learnin...          1\n",
       "4     I used a free trial version for a couple of da...          1\n",
       "...                                                 ...        ...\n",
       "4883  I got high hopes for this update and I actuall...          1\n",
       "4884  This is Epic I kinda wish the full version wer...          1\n",
       "4885  This game is awesome. I just beat it at just u...          1\n",
       "4886  This is really a good game with great graphics...          1\n",
       "4887  I can accept the fact that you put ads. But th...          0\n",
       "\n",
       "[4888 rows x 2 columns]"
      ]
     },
     "execution_count": 10,
     "metadata": {},
     "output_type": "execute_result"
    }
   ],
   "source": [
    "train_data = review_df.drop('rating', axis=1)\n",
    "train_data = train_data.drop('app_name', axis=1)\n",
    "train_data"
   ]
  },
  {
   "cell_type": "code",
   "execution_count": 12,
   "id": "0e0f37bf",
   "metadata": {},
   "outputs": [
    {
     "data": {
      "image/png": "[encoded data removed]",
      "text/plain": [
       "<Figure size 600x500 with 1 Axes>"
      ]
     },
     "metadata": {},
     "output_type": "display_data"
    }
   ],
   "source": [
    "import matplotlib.pyplot as plt\n",
    "import seaborn as sn\n",
    "%matplotlib inline\n",
    "plt.figure(figsize=(6,5))\n",
    "plt.title(\"Number of records of positive and negative sentiments\")\n",
    "plot = sn.countplot(x = 'sentiment', data=train_data)\n",
    "for p in plot.patches:\n",
    "    plot.annotate(p.get_height(),(p.get_x()+0.1 ,p.get_height()+50))"
   ]
  },
  {
   "cell_type": "code",
   "execution_count": 16,
   "id": "06042a62",
   "metadata": {},
   "outputs": [
    {
     "name": "stdout",
     "output_type": "stream",
     "text": [
      "total number of features:  12152\n"
     ]
    }
   ],
   "source": [
    "from sklearn.feature_extraction.text import CountVectorizer\n",
    "\n",
    "count_vectorize = CountVectorizer()\n",
    "\n",
    "feature_vector =  count_vectorize.fit(train_data.review_text)\n",
    "\n",
    "features = feature_vector.get_feature_names()\n",
    "\n",
    "print(\"total number of features: \", len(features))"
   ]
  },
  {
   "cell_type": "code",
   "execution_count": 17,
   "id": "57f7558b",
   "metadata": {},
   "outputs": [
    {
     "data": {
      "text/plain": [
       "['respawn',\n",
       " 'o2',\n",
       " 'bothersome',\n",
       " 'robtop',\n",
       " 'trades',\n",
       " 'ocasions',\n",
       " 'numerical',\n",
       " 'precise',\n",
       " 'precipitation',\n",
       " 'children']"
      ]
     },
     "execution_count": 17,
     "metadata": {},
     "output_type": "execute_result"
    }
   ],
   "source": [
    "import random\n",
    "\n",
    "random.sample(features,10)"
   ]
  },
  {
   "cell_type": "code",
   "execution_count": 19,
   "id": "12f388b7",
   "metadata": {},
   "outputs": [
    {
     "data": {
      "text/plain": [
       "scipy.sparse.csr.csr_matrix"
      ]
     },
     "execution_count": 19,
     "metadata": {},
     "output_type": "execute_result"
    }
   ],
   "source": [
    "train_ds_features = count_vectorize.transform(train_data.review_text)\n",
    "\n",
    "type(train_ds_features)"
   ]
  },
  {
   "cell_type": "code",
   "execution_count": 20,
   "id": "aa9b02ed",
   "metadata": {},
   "outputs": [
    {
     "data": {
      "text/plain": [
       "230639"
      ]
     },
     "execution_count": 20,
     "metadata": {},
     "output_type": "execute_result"
    }
   ],
   "source": [
    "train_ds_features.getnnz()"
   ]
  },
  {
   "cell_type": "code",
   "execution_count": 21,
   "id": "ba5ddf50",
   "metadata": {
    "scrolled": true
   },
   "outputs": [
    {
     "name": "stdout",
     "output_type": "stream",
     "text": [
      "Density of the matrix:  0.3882878384974179\n"
     ]
    }
   ],
   "source": [
    "print(\"Density of the matrix: \", train_ds_features.getnnz()*100/\n",
    "\n",
    "               (train_ds_features.shape[0]*train_ds_features.shape[1]))"
   ]
  },
  {
   "cell_type": "code",
   "execution_count": 22,
   "id": "33aaf0e7",
   "metadata": {},
   "outputs": [
    {
     "data": {
      "text/html": [
       "<div>\n",
       "<style scoped>\n",
       "    .dataframe tbody tr th:only-of-type {\n",
       "        vertical-align: middle;\n",
       "    }\n",
       "\n",
       "    .dataframe tbody tr th {\n",
       "        vertical-align: top;\n",
       "    }\n",
       "\n",
       "    .dataframe thead th {\n",
       "        text-align: right;\n",
       "    }\n",
       "</style>\n",
       "<table border=\"1\" class=\"dataframe\">\n",
       "  <thead>\n",
       "    <tr style=\"text-align: right;\">\n",
       "      <th></th>\n",
       "      <th>review_text</th>\n",
       "      <th>sentiment</th>\n",
       "    </tr>\n",
       "  </thead>\n",
       "  <tbody>\n",
       "    <tr>\n",
       "      <th>0</th>\n",
       "      <td>Annoying, automatic server selection not worki...</td>\n",
       "      <td>0</td>\n",
       "    </tr>\n",
       "  </tbody>\n",
       "</table>\n",
       "</div>"
      ],
      "text/plain": [
       "                                         review_text  sentiment\n",
       "0  Annoying, automatic server selection not worki...          0"
      ]
     },
     "execution_count": 22,
     "metadata": {},
     "output_type": "execute_result"
    }
   ],
   "source": [
    "train_ds_df = pd.DataFrame(train_ds_features.todense())\n",
    "\n",
    "train_ds_df.columns = features\n",
    "\n",
    "train_data[0:1]"
   ]
  },
  {
   "cell_type": "code",
   "execution_count": 23,
   "id": "6307ef6f",
   "metadata": {},
   "outputs": [
    {
     "data": {
      "text/plain": [
       "Text(0, 0.5, 'Density')"
      ]
     },
     "execution_count": 23,
     "metadata": {},
     "output_type": "execute_result"
    },
    {
     "data": {
      "image/png": "[encoded data removed]",
      "text/plain": [
       "<Figure size 800x600 with 1 Axes>"
      ]
     },
     "metadata": {},
     "output_type": "display_data"
    }
   ],
   "source": [
    "features_counts = np.sum(train_ds_features.toarray(),axis=0)\n",
    "\n",
    "features_counts_df = pd.DataFrame(dict(features = features, counts = features_counts))\n",
    "\n",
    "plt.figure(figsize=(8,6))\n",
    "\n",
    "plt.hist(features_counts_df.counts, bins=50, range=(0,2000))\n",
    "\n",
    "plt.xlabel(\"Frequency of words\")\n",
    "\n",
    "plt.ylabel('Density')"
   ]
  },
  {
   "cell_type": "code",
   "execution_count": 25,
   "id": "4139b157",
   "metadata": {},
   "outputs": [
    {
     "data": {
      "text/plain": [
       "5452"
      ]
     },
     "execution_count": 25,
     "metadata": {},
     "output_type": "execute_result"
    }
   ],
   "source": [
    "len(features_counts_df[features_counts_df.counts==1])"
   ]
  },
  {
   "cell_type": "code",
   "execution_count": 27,
   "id": "309658ce",
   "metadata": {},
   "outputs": [
    {
     "data": {
      "text/html": [
       "<div>\n",
       "<style scoped>\n",
       "    .dataframe tbody tr th:only-of-type {\n",
       "        vertical-align: middle;\n",
       "    }\n",
       "\n",
       "    .dataframe tbody tr th {\n",
       "        vertical-align: top;\n",
       "    }\n",
       "\n",
       "    .dataframe thead th {\n",
       "        text-align: right;\n",
       "    }\n",
       "</style>\n",
       "<table border=\"1\" class=\"dataframe\">\n",
       "  <thead>\n",
       "    <tr style=\"text-align: right;\">\n",
       "      <th></th>\n",
       "      <th>features</th>\n",
       "      <th>counts</th>\n",
       "    </tr>\n",
       "  </thead>\n",
       "  <tbody>\n",
       "    <tr>\n",
       "      <th>850</th>\n",
       "      <td>the</td>\n",
       "      <td>15421</td>\n",
       "    </tr>\n",
       "    <tr>\n",
       "      <th>869</th>\n",
       "      <td>to</td>\n",
       "      <td>10419</td>\n",
       "    </tr>\n",
       "    <tr>\n",
       "      <th>444</th>\n",
       "      <td>it</td>\n",
       "      <td>9786</td>\n",
       "    </tr>\n",
       "    <tr>\n",
       "      <th>46</th>\n",
       "      <td>and</td>\n",
       "      <td>8584</td>\n",
       "    </tr>\n",
       "    <tr>\n",
       "      <th>440</th>\n",
       "      <td>is</td>\n",
       "      <td>5369</td>\n",
       "    </tr>\n",
       "    <tr>\n",
       "      <th>995</th>\n",
       "      <td>you</td>\n",
       "      <td>4618</td>\n",
       "    </tr>\n",
       "    <tr>\n",
       "      <th>581</th>\n",
       "      <td>of</td>\n",
       "      <td>4114</td>\n",
       "    </tr>\n",
       "    <tr>\n",
       "      <th>861</th>\n",
       "      <td>this</td>\n",
       "      <td>4046</td>\n",
       "    </tr>\n",
       "    <tr>\n",
       "      <th>56</th>\n",
       "      <td>app</td>\n",
       "      <td>3920</td>\n",
       "    </tr>\n",
       "    <tr>\n",
       "      <th>331</th>\n",
       "      <td>for</td>\n",
       "      <td>3806</td>\n",
       "    </tr>\n",
       "    <tr>\n",
       "      <th>126</th>\n",
       "      <td>but</td>\n",
       "      <td>3453</td>\n",
       "    </tr>\n",
       "    <tr>\n",
       "      <th>353</th>\n",
       "      <td>game</td>\n",
       "      <td>3367</td>\n",
       "    </tr>\n",
       "    <tr>\n",
       "      <th>849</th>\n",
       "      <td>that</td>\n",
       "      <td>3175</td>\n",
       "    </tr>\n",
       "    <tr>\n",
       "      <th>427</th>\n",
       "      <td>in</td>\n",
       "      <td>2887</td>\n",
       "    </tr>\n",
       "    <tr>\n",
       "      <th>391</th>\n",
       "      <td>have</td>\n",
       "      <td>2360</td>\n",
       "    </tr>\n",
       "  </tbody>\n",
       "</table>\n",
       "</div>"
      ],
      "text/plain": [
       "    features  counts\n",
       "850      the   15421\n",
       "869       to   10419\n",
       "444       it    9786\n",
       "46       and    8584\n",
       "440       is    5369\n",
       "995      you    4618\n",
       "581       of    4114\n",
       "861     this    4046\n",
       "56       app    3920\n",
       "331      for    3806\n",
       "126      but    3453\n",
       "353     game    3367\n",
       "849     that    3175\n",
       "427       in    2887\n",
       "391     have    2360"
      ]
     },
     "execution_count": 27,
     "metadata": {},
     "output_type": "execute_result"
    }
   ],
   "source": [
    "count_vectorizer =  CountVectorizer(max_features=1000)\n",
    "\n",
    "feature_vector = count_vectorizer.fit(train_data.review_text)\n",
    "\n",
    "features = feature_vector.get_feature_names()\n",
    "\n",
    "train_ds_features = count_vectorizer.transform(train_data.review_text)\n",
    "\n",
    "features_counts =  np.sum(train_ds_features.toarray(),axis=0)\n",
    "\n",
    "features_counts = pd.DataFrame(dict(features = features, counts = features_counts))\n",
    "\n",
    "features_counts.sort_values('counts', ascending=False)[0:15]"
   ]
  },
  {
   "cell_type": "code",
   "execution_count": 29,
   "id": "30b7a439",
   "metadata": {
    "scrolled": true
   },
   "outputs": [
    {
     "name": "stdout",
     "output_type": "stream",
     "text": [
      "Few stop words:  ['un', 'namely', 'call', 'both', 'whom', 'but', 'what', 'couldnt', 'down', 'latter']\n"
     ]
    }
   ],
   "source": [
    "from sklearn.feature_extraction import text\n",
    "\n",
    "my_stop_words = text.ENGLISH_STOP_WORDS\n",
    "\n",
    "print(\"Few stop words: \", list(my_stop_words)[0:10])"
   ]
  },
  {
   "cell_type": "code",
   "execution_count": 31,
   "id": "7156a689",
   "metadata": {},
   "outputs": [
    {
     "data": {
      "text/plain": [
       "<AxesSubplot: xlabel='Sentiment', ylabel='awesome'>"
      ]
     },
     "execution_count": 31,
     "metadata": {},
     "output_type": "execute_result"
    },
    {
     "data": {
      "image/png": "[encoded data removed]",
      "text/plain": [
       "<Figure size 640x480 with 1 Axes>"
      ]
     },
     "metadata": {},
     "output_type": "display_data"
    }
   ],
   "source": [
    "train_ds_df = pd.DataFrame(train_ds_features.todense())\n",
    "\n",
    "train_ds_df.columns = features\n",
    "\n",
    "train_ds_df['Sentiment'] = train_data.sentiment\n",
    "\n",
    "sn.barplot(x = 'Sentiment',y = 'awesome', data = train_ds_df, estimator= sum)"
   ]
  },
  {
   "cell_type": "code",
   "execution_count": 33,
   "id": "55ec0810",
   "metadata": {},
   "outputs": [
    {
     "data": {
      "text/html": [
       "<div>\n",
       "<style scoped>\n",
       "    .dataframe tbody tr th:only-of-type {\n",
       "        vertical-align: middle;\n",
       "    }\n",
       "\n",
       "    .dataframe tbody tr th {\n",
       "        vertical-align: top;\n",
       "    }\n",
       "\n",
       "    .dataframe thead th {\n",
       "        text-align: right;\n",
       "    }\n",
       "</style>\n",
       "<table border=\"1\" class=\"dataframe\">\n",
       "  <thead>\n",
       "    <tr style=\"text-align: right;\">\n",
       "      <th></th>\n",
       "      <th>features</th>\n",
       "      <th>counts</th>\n",
       "    </tr>\n",
       "  </thead>\n",
       "  <tbody>\n",
       "    <tr>\n",
       "      <th>50</th>\n",
       "      <td>app</td>\n",
       "      <td>3920</td>\n",
       "    </tr>\n",
       "    <tr>\n",
       "      <th>357</th>\n",
       "      <td>game</td>\n",
       "      <td>3367</td>\n",
       "    </tr>\n",
       "    <tr>\n",
       "      <th>479</th>\n",
       "      <td>like</td>\n",
       "      <td>1418</td>\n",
       "    </tr>\n",
       "    <tr>\n",
       "      <th>451</th>\n",
       "      <td>just</td>\n",
       "      <td>1386</td>\n",
       "    </tr>\n",
       "    <tr>\n",
       "      <th>875</th>\n",
       "      <td>time</td>\n",
       "      <td>1179</td>\n",
       "    </tr>\n",
       "    <tr>\n",
       "      <th>32</th>\n",
       "      <td>ads</td>\n",
       "      <td>1141</td>\n",
       "    </tr>\n",
       "    <tr>\n",
       "      <th>375</th>\n",
       "      <td>good</td>\n",
       "      <td>1095</td>\n",
       "    </tr>\n",
       "    <tr>\n",
       "      <th>380</th>\n",
       "      <td>great</td>\n",
       "      <td>1041</td>\n",
       "    </tr>\n",
       "    <tr>\n",
       "      <th>689</th>\n",
       "      <td>really</td>\n",
       "      <td>988</td>\n",
       "    </tr>\n",
       "    <tr>\n",
       "      <th>928</th>\n",
       "      <td>use</td>\n",
       "      <td>915</td>\n",
       "    </tr>\n",
       "    <tr>\n",
       "      <th>260</th>\n",
       "      <td>don</td>\n",
       "      <td>800</td>\n",
       "    </tr>\n",
       "    <tr>\n",
       "      <th>619</th>\n",
       "      <td>phone</td>\n",
       "      <td>785</td>\n",
       "    </tr>\n",
       "    <tr>\n",
       "      <th>631</th>\n",
       "      <td>play</td>\n",
       "      <td>780</td>\n",
       "    </tr>\n",
       "    <tr>\n",
       "      <th>939</th>\n",
       "      <td>ve</td>\n",
       "      <td>707</td>\n",
       "    </tr>\n",
       "    <tr>\n",
       "      <th>512</th>\n",
       "      <td>love</td>\n",
       "      <td>690</td>\n",
       "    </tr>\n",
       "  </tbody>\n",
       "</table>\n",
       "</div>"
      ],
      "text/plain": [
       "    features  counts\n",
       "50       app    3920\n",
       "357     game    3367\n",
       "479     like    1418\n",
       "451     just    1386\n",
       "875     time    1179\n",
       "32       ads    1141\n",
       "375     good    1095\n",
       "380    great    1041\n",
       "689   really     988\n",
       "928      use     915\n",
       "260      don     800\n",
       "619    phone     785\n",
       "631     play     780\n",
       "939       ve     707\n",
       "512     love     690"
      ]
     },
     "execution_count": 33,
     "metadata": {},
     "output_type": "execute_result"
    }
   ],
   "source": [
    "count_vectorizer =  CountVectorizer(stop_words= my_stop_words, max_features= 1000)\n",
    "\n",
    "feature_vector =  count_vectorizer.fit(train_data.review_text)\n",
    "\n",
    "train_ds_features =  count_vectorizer.transform(train_data.review_text)\n",
    "\n",
    "features = feature_vector.get_feature_names()\n",
    "\n",
    "features_counts = np.sum(train_ds_features.toarray(), axis = 0)\n",
    "\n",
    "features_counts = pd.DataFrame(dict(features =  features, counts = features_counts))\n",
    "\n",
    "features_counts.sort_values(\"counts\", ascending= False)[0:15]"
   ]
  },
  {
   "cell_type": "code",
   "execution_count": 38,
   "id": "7009bc71",
   "metadata": {},
   "outputs": [],
   "source": [
    "from sklearn.model_selection import train_test_split\n",
    "train_x, test_x, train_y, test_y =  train_test_split(train_ds_features, train_data.sentiment, \n",
    "                                                     test_size = 0.3, random_state = 42)"
   ]
  },
  {
   "cell_type": "code",
   "execution_count": 39,
   "id": "9b2fadb8",
   "metadata": {},
   "outputs": [
    {
     "data": {
      "text/plain": [
       "BernoulliNB()"
      ]
     },
     "execution_count": 39,
     "metadata": {},
     "output_type": "execute_result"
    }
   ],
   "source": [
    "from sklearn.naive_bayes import BernoulliNB\n",
    "nb_clf = BernoulliNB()\n",
    "nb_clf.fit(train_x.toarray(), train_y)"
   ]
  },
  {
   "cell_type": "code",
   "execution_count": 40,
   "id": "7b3d8ccc",
   "metadata": {},
   "outputs": [],
   "source": [
    "test_ds_predicted = nb_clf.predict(test_x.toarray())"
   ]
  },
  {
   "cell_type": "code",
   "execution_count": 41,
   "id": "8bcf6324",
   "metadata": {},
   "outputs": [
    {
     "name": "stdout",
     "output_type": "stream",
     "text": [
      "              precision    recall  f1-score   support\n",
      "\n",
      "           0       0.68      0.66      0.67       519\n",
      "           1       0.82      0.83      0.83       948\n",
      "\n",
      "    accuracy                           0.77      1467\n",
      "   macro avg       0.75      0.75      0.75      1467\n",
      "weighted avg       0.77      0.77      0.77      1467\n",
      "\n"
     ]
    }
   ],
   "source": [
    "from sklearn import metrics\n",
    "print(metrics.classification_report(test_y,test_ds_predicted))"
   ]
  },
  {
   "cell_type": "code",
   "execution_count": 42,
   "id": "ede7d168",
   "metadata": {},
   "outputs": [
    {
     "data": {
      "text/plain": [
       "<AxesSubplot: >"
      ]
     },
     "execution_count": 42,
     "metadata": {},
     "output_type": "execute_result"
    },
    {
     "data": {
      "image/png": "[encoded data removed]",
      "text/plain": [
       "<Figure size 640x480 with 2 Axes>"
      ]
     },
     "metadata": {},
     "output_type": "display_data"
    }
   ],
   "source": [
    "cm = metrics.confusion_matrix(test_y, test_ds_predicted)\n",
    "sn.heatmap(cm, annot=True, fmt = '.2f')"
   ]
  },
  {
   "cell_type": "code",
   "execution_count": null,
   "id": "ce948f64",
   "metadata": {},
   "outputs": [],
   "source": []
  }
 ],
 "metadata": {
  "kernelspec": {
   "display_name": "Python 3 (ipykernel)",
   "language": "python",
   "name": "python3"
  },
  "language_info": {
   "codemirror_mode": {
    "name": "ipython",
    "version": 3
   },
   "file_extension": ".py",
   "mimetype": "text/x-python",
   "name": "python",
   "nbconvert_exporter": "python",
   "pygments_lexer": "ipython3",
   "version": "3.9.12"
  }
 },
 "nbformat": 4,
 "nbformat_minor": 5
}
